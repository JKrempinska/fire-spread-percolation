{
 "cells": [
  {
   "cell_type": "markdown",
   "metadata": {},
   "source": [
    "## TEORIA PERKOLACJI W POŻARACH LASÓW"
   ]
  },
  {
   "cell_type": "code",
   "execution_count": 528,
   "metadata": {},
   "outputs": [],
   "source": [
    "import numpy as np\n",
    "import matplotlib.pyplot as plt\n",
    "from matplotlib.colors import ListedColormap\n",
    "from PIL import Image, ImageDraw"
   ]
  },
  {
   "cell_type": "code",
   "execution_count": 529,
   "metadata": {},
   "outputs": [],
   "source": [
    "# Parametry siatki\n",
    "grid_size = 50  # Rozmiar siatki\n",
    "p_fire = 0.7   # Prawdopodobieństwo zapalenia sąsiedniego drzewa\n",
    "p_tree = 0.6   # Prawdopodobieństwo początkowego istnienia drzewa\n",
    "p_stop = 0.003  # Prawdopodobieństwo wygaszenia ognia"
   ]
  },
  {
   "cell_type": "code",
   "execution_count": 530,
   "metadata": {},
   "outputs": [],
   "source": [
    "# Stany i kolory drzew\n",
    "# 0 - PUSTE, 1 - DRZEWO, 2 - PALĄCE SIĘ, 3 - SPALONE\n",
    "\n",
    "tree_cond = {\n",
    "    0: \"EMPTY\",\n",
    "    1: \"TREE\",\n",
    "    2: \"BURNING\",\n",
    "    3: \"BURNT\"\n",
    "}\n",
    "\n",
    "tree_color = {\n",
    "    0: \"white\",\n",
    "    1: \"green\",\n",
    "    2: \"red\",\n",
    "    3: \"black\"\n",
    "}"
   ]
  },
  {
   "cell_type": "code",
   "execution_count": 531,
   "metadata": {},
   "outputs": [],
   "source": [
    "def forest_grid(grid_size, p_tree):\n",
    "    random_vals = np.random.rand(grid_size, grid_size)\n",
    "    forest = (random_vals < p_tree).astype(int)     \n",
    "    return forest"
   ]
  },
  {
   "cell_type": "code",
   "execution_count": 532,
   "metadata": {},
   "outputs": [
    {
     "data": {
      "image/png": "[encoded data removed]",
      "text/plain": [
       "<Figure size 640x480 with 1 Axes>"
      ]
     },
     "metadata": {},
     "output_type": "display_data"
    }
   ],
   "source": [
    "forest = forest_grid(grid_size, p_tree)\n",
    "cmap_forest = ListedColormap([tree_color[0], tree_color[1]])\n",
    "plt.imshow(forest, cmap=cmap_forest)\n",
    "plt.axis('off')\n",
    "plt.title(f'Siatka {grid_size}x{grid_size}, zalesienie = {p_tree}')\n",
    "plt.show()"
   ]
  },
  {
   "cell_type": "code",
   "execution_count": 533,
   "metadata": {},
   "outputs": [],
   "source": [
    "def get_neighbors(x, y, size, neighborhood):\n",
    "    if neighborhood == \"von_neumann\":\n",
    "        neighbors = np.array([(x-1, y), (x+1, y), (x, y-1), (x, y+1)])\n",
    "    elif neighborhood == \"moore\":\n",
    "        neighbors = np.array([(x-1, y-1), (x-1, y), (x-1, y+1),  \n",
    "                            (x, y-1), (x, y+1),             \n",
    "                            (x+1, y-1), (x+1, y), (x+1, y+1)])\n",
    "    else:\n",
    "        return [] \n",
    "    neighbors = [(nx, ny) for nx, ny in neighbors if 0 <= nx < size and 0 <= ny < size] \n",
    "    return neighbors"
   ]
  },
  {
   "cell_type": "code",
   "execution_count": 534,
   "metadata": {},
   "outputs": [],
   "source": [
    "def start_fire(grid_size, p_tree):\n",
    "    forest_start = forest_grid(grid_size, p_tree)\n",
    "    fire_start = np.random.randint(0, grid_size, size=2)\n",
    "    while forest[fire_start[0], fire_start[1]] != 1: \n",
    "        fire_start = np.random.randint(0, grid_size, size=2)\n",
    "    forest_start[fire_start[0], fire_start[1]] = 2\n",
    "    return forest_start"
   ]
  },
  {
   "cell_type": "code",
   "execution_count": 535,
   "metadata": {},
   "outputs": [],
   "source": [
    "def spread_fire(forest, grid_size, p_fire, p_stop, neighborhood):\n",
    "    forest_on_fire = forest.copy()\n",
    "    neighbors_burning = np.argwhere(forest_on_fire == 2) \n",
    "    \n",
    "    for is_burning in neighbors_burning:\n",
    "        neighbors = get_neighbors(is_burning[0], is_burning[1], grid_size, neighborhood)\n",
    "        \n",
    "        for neighbor in neighbors:\n",
    "            if forest_on_fire[neighbor[0], neighbor[1]] == 1 and np.random.rand() < p_fire:\n",
    "                forest_on_fire[neighbor[0], neighbor[1]] = 2 \n",
    "            elif forest_on_fire[neighbor[0], neighbor[1]] == 2 and np.random.rand() < p_stop:\n",
    "                forest_on_fire[neighbor[0], neighbor[1]] = 3 \n",
    "    \n",
    "    return forest_on_fire"
   ]
  },
  {
   "cell_type": "code",
   "execution_count": 536,
   "metadata": {},
   "outputs": [],
   "source": [
    "def fire_simulation(grid_size, p_fire, p_tree, p_stop, neighborhood, gif_name, M = 100): \n",
    "    forest = start_fire(grid_size, p_tree)\n",
    "    cmap_forest = ListedColormap(tree_color.values())\n",
    "\n",
    "    frames = []\n",
    "    for step in range(M):\n",
    "        forest = spread_fire(forest, grid_size, p_fire, p_stop, neighborhood)    \n",
    "        fig, ax = plt.subplots(figsize=(7, 7), dpi=80)\n",
    "        ax.imshow(forest, cmap=cmap_forest, vmin=0, vmax=3)\n",
    "        ax.axis('off')\n",
    "        ax.set_title(f'Siatka {grid_size}x{grid_size}, zalesienie = {p_tree}')\n",
    "        \n",
    "        plt.draw()\n",
    "        fig.canvas.draw()\n",
    "\n",
    "        buf = fig.canvas.buffer_rgba()\n",
    "        image = Image.frombytes('RGBA', fig.canvas.get_width_height(), buf)\n",
    "        frames.append(image)\n",
    "        plt.close(fig)\n",
    "        \n",
    "    frames[0].save(f'{gif_name}.gif', save_all=True, append_images=frames[1:], loop=0, duration=300)\n",
    "    print(f\"Animacja została zapisana jako '{gif_name}.gif'\")"
   ]
  },
  {
   "cell_type": "code",
   "execution_count": 537,
   "metadata": {},
   "outputs": [
    {
     "name": "stdout",
     "output_type": "stream",
     "text": [
      "Animacja została zapisana jako 'Neumann_50x50.gif'\n"
     ]
    }
   ],
   "source": [
    "fire_simulation(grid_size, p_fire, p_tree, p_stop, neighborhood=\"von_neumann\", gif_name = \"Neumann_50x50\", M=100)"
   ]
  },
  {
   "cell_type": "code",
   "execution_count": 538,
   "metadata": {},
   "outputs": [
    {
     "name": "stdout",
     "output_type": "stream",
     "text": [
      "Animacja została zapisana jako 'Moore_50x50.gif'\n"
     ]
    }
   ],
   "source": [
    "fire_simulation(grid_size, p_fire, p_tree, p_stop, neighborhood=\"moore\", gif_name = \"Moore_50x50\", M=100)"
   ]
  }
 ],
 "metadata": {
  "kernelspec": {
   "display_name": "Python 3",
   "language": "python",
   "name": "python3"
  },
  "language_info": {
   "codemirror_mode": {
    "name": "ipython",
    "version": 3
   },
   "file_extension": ".py",
   "mimetype": "text/x-python",
   "name": "python",
   "nbconvert_exporter": "python",
   "pygments_lexer": "ipython3",
   "version": "3.12.5"
  }
 },
 "nbformat": 4,
 "nbformat_minor": 2
}
