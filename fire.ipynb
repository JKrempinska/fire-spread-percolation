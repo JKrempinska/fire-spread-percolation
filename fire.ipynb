{
 "cells": [
  {
   "cell_type": "markdown",
   "metadata": {},
   "source": [
    "$$\n",
    "\\Huge \\text{TEORIA PERKOLACJI W POŻARACH LASÓW}\n",
    "$$\n",
    "\n",
    "$$\n",
    "\\Large \\text{Autorzy: Alicja Górnik, Ewa Herman, Julia Krempińska, Jagoda Płócienniczak}\n",
    "$$"
   ]
  },
  {
   "cell_type": "code",
   "execution_count": 311,
   "metadata": {},
   "outputs": [],
   "source": [
    "import numpy as np\n",
    "import matplotlib.pyplot as plt\n",
    "from matplotlib.colors import ListedColormap\n",
    "from PIL import Image, ImageDraw"
   ]
  },
  {
   "cell_type": "markdown",
   "metadata": {},
   "source": [
    "#### 1. Drzewa mogą znajdować się w następujących stanach, opisanych poszczególnymi kolorami:\n",
    "- 0 - brak drzewa (kolor biały)\n",
    "- 1 - drzewo (kolor zielony)\n",
    "- 2 - palącce się drzewo (kolor czerwony)\n",
    "- 3 - spalone drzewo (kolor szary)"
   ]
  },
  {
   "cell_type": "code",
   "execution_count": 312,
   "metadata": {},
   "outputs": [],
   "source": [
    "tree_cond = {\"EMPTY\": 0, \"TREE\": 1, \"BURNING\": 2, \"BURNED\": 3}\n",
    "tree_color = {0: \"white\", 1: \"green\", 2: \"red\", 3: \"grey\"}"
   ]
  },
  {
   "cell_type": "markdown",
   "metadata": {},
   "source": [
    "#### 2. Poczatkowe parametry siatki 2D."
   ]
  },
  {
   "cell_type": "code",
   "execution_count": 313,
   "metadata": {},
   "outputs": [],
   "source": [
    "size = 50  # Rozmiar siatki\n",
    "p_fire = 0.7   # Prawdopodobieństwo zapalenia sąsiedniego drzewa\n",
    "p_tree = 0.6  # Prawdopodobieństwo początkowego istnienia drzewa / zalesienie"
   ]
  },
  {
   "cell_type": "markdown",
   "metadata": {},
   "source": [
    "#### 3. Początkowa siatka 2D (jeszcze przed pożarem)."
   ]
  },
  {
   "cell_type": "code",
   "execution_count": 314,
   "metadata": {},
   "outputs": [],
   "source": [
    "cmap = ListedColormap(tree_color.values())"
   ]
  },
  {
   "cell_type": "code",
   "execution_count": 315,
   "metadata": {},
   "outputs": [],
   "source": [
    "def forest_grid(size, p_tree):\n",
    "    forest = np.random.choice([tree_cond[\"EMPTY\"], tree_cond[\"TREE\"]], size=(size, size), p=[1-p_tree, p_tree])\n",
    "    return forest"
   ]
  },
  {
   "cell_type": "code",
   "execution_count": 316,
   "metadata": {},
   "outputs": [
    {
     "data": {
      "image/png": "[encoded data removed]",
      "text/plain": [
       "<Figure size 640x480 with 1 Axes>"
      ]
     },
     "metadata": {},
     "output_type": "display_data"
    }
   ],
   "source": [
    "grid = forest_grid(size, p_tree)\n",
    "plt.imshow(grid, cmap=cmap, vmin=0, vmax=3)\n",
    "plt.axis('off')\n",
    "plt.title(f'Siatka {size}x{size}, zalesienie = {p_tree}')\n",
    "plt.show()"
   ]
  },
  {
   "cell_type": "markdown",
   "metadata": {},
   "source": [
    "#### 4. Sąsiedztwo (Von Neumanna i Moore'a)"
   ]
  },
  {
   "cell_type": "code",
   "execution_count": 317,
   "metadata": {},
   "outputs": [],
   "source": [
    "def get_neighbors(x, y, size, neighborhood):\n",
    "    if neighborhood == \"von_neumann\":\n",
    "        neighbors = np.array([(x-1, y), (x+1, y), (x, y-1), (x, y+1)])\n",
    "    elif neighborhood == \"moore\":\n",
    "        neighbors = np.array([(x-1, y-1), (x-1, y), (x-1, y+1),  \n",
    "                            (x, y-1), (x, y+1),             \n",
    "                            (x+1, y-1), (x+1, y), (x+1, y+1)])\n",
    "    else:\n",
    "        return [] \n",
    "    neighbors = [(nx, ny) for nx, ny in neighbors if 0 <= nx < size and 0 <= ny < size] \n",
    "    return neighbors"
   ]
  },
  {
   "cell_type": "markdown",
   "metadata": {},
   "source": [
    "#### 5. Pożar i jego rozprzestrzenianie się"
   ]
  },
  {
   "cell_type": "code",
   "execution_count": 318,
   "metadata": {},
   "outputs": [],
   "source": [
    "def start_fire(forest_before_fire):\n",
    "    forest = forest_before_fire.copy()\n",
    "    forest[0, :] = np.where(forest[0, :] == tree_cond[\"TREE\"], tree_cond[\"BURNING\"], forest[0, :])\n",
    "    return forest"
   ]
  },
  {
   "cell_type": "code",
   "execution_count": 319,
   "metadata": {},
   "outputs": [],
   "source": [
    "def spread_fire(forest_with_fire, size, p_fire, neighborhood):\n",
    "    new_forest = forest_with_fire.copy()\n",
    "    size = forest_with_fire.shape[0]\n",
    "\n",
    "    for x in range(size):\n",
    "        for y in range(size):\n",
    "            if forest_with_fire[x, y] == tree_cond[\"BURNING\"]:\n",
    "                new_forest[x, y] = tree_cond[\"BURNED\"]\n",
    "                \n",
    "                for nx, ny in get_neighbors(x, y, size, neighborhood):\n",
    "                    if forest_with_fire[nx, ny] == tree_cond[\"TREE\"]:\n",
    "                        if np.random.rand() < p_fire:\n",
    "                            new_forest[nx, ny] = tree_cond[\"BURNING\"]\n",
    "    return new_forest"
   ]
  },
  {
   "cell_type": "markdown",
   "metadata": {},
   "source": [
    "#### 6. Sumulacja rozprzestrzeniania się ognia"
   ]
  },
  {
   "cell_type": "code",
   "execution_count": null,
   "metadata": {},
   "outputs": [],
   "source": [
    "def fire_simulation(size, p_fire, p_tree, neighborhood, gif_name, M_frames=100):\n",
    "    forest = forest_grid(size, p_tree)\n",
    "    frames = []\n",
    "\n",
    "    for step in range(M_frames):\n",
    "        if step == 0:\n",
    "            fig, ax = plt.subplots(figsize=(7, 7), dpi=80)\n",
    "            ax.imshow(forest, cmap=cmap, vmin=0, vmax=3)\n",
    "            ax.axis('off')\n",
    "            ax.set_title(f'Pusty las {size}x{size}, zalesienie = {p_tree}')\n",
    "            plt.draw()\n",
    "            fig.canvas.draw()\n",
    "            buf = fig.canvas.buffer_rgba()\n",
    "            image = Image.frombytes('RGBA', fig.canvas.get_width_height(), buf)\n",
    "            frames.append(image)\n",
    "            plt.close(fig)\n",
    "\n",
    "        elif step == 1:\n",
    "            forest = start_fire(forest)\n",
    "            fig, ax = plt.subplots(figsize=(7, 7), dpi=80)\n",
    "            ax.imshow(forest, cmap=cmap, vmin=0, vmax=3)\n",
    "            ax.axis('off')\n",
    "            ax.set_title(f'Siatka {size}x{size}, zalesienie = {p_tree}')\n",
    "            plt.draw()\n",
    "            fig.canvas.draw()\n",
    "            buf = fig.canvas.buffer_rgba()\n",
    "            image = Image.frombytes('RGBA', fig.canvas.get_width_height(), buf)\n",
    "            frames.append(image)\n",
    "            plt.close(fig)\n",
    "\n",
    "        else:\n",
    "            forest = spread_fire(forest, size, p_fire, neighborhood)\n",
    "            fig, ax = plt.subplots(figsize=(7, 7), dpi=80)\n",
    "            ax.imshow(forest, cmap=cmap, vmin=0, vmax=3)\n",
    "            ax.axis('off')\n",
    "            ax.set_title(f'Siatka {size}x{size}, zalesienie = {p_tree}')\n",
    "            plt.draw()\n",
    "            fig.canvas.draw()\n",
    "\n",
    "            buf = fig.canvas.buffer_rgba()\n",
    "            image = Image.frombytes('RGBA', fig.canvas.get_width_height(), buf)\n",
    "            frames.append(image)\n",
    "            plt.close(fig)\n",
    "\n",
    "    frames[0].save(f'{gif_name}.gif', save_all=True, append_images=frames[1:], loop=0, duration=200)\n",
    "    print(f\"Animacja została zapisana jako '{gif_name}.gif'\")"
   ]
  },
  {
   "cell_type": "code",
   "execution_count": 321,
   "metadata": {},
   "outputs": [
    {
     "name": "stdout",
     "output_type": "stream",
     "text": [
      "Animacja została zapisana jako 'Neumann_50x50.gif'\n"
     ]
    }
   ],
   "source": [
    "fire_simulation(size, p_fire = 1, p_tree = 0.6, neighborhood=\"von_neumann\", gif_name = \"Neumann_50x50\", M_frames=100)"
   ]
  },
  {
   "cell_type": "code",
   "execution_count": 322,
   "metadata": {},
   "outputs": [
    {
     "name": "stdout",
     "output_type": "stream",
     "text": [
      "Animacja została zapisana jako 'Moore_50x50.gif'\n"
     ]
    }
   ],
   "source": [
    "fire_simulation(size, p_fire, p_tree, neighborhood=\"moore\", gif_name = \"Moore_50x50\", M_frames=100)"
   ]
  },
  {
   "cell_type": "markdown",
   "metadata": {},
   "source": [
    "#### 7. Szybkość rozprzestrzeniania się pożaru w czasie."
   ]
  }
 ],
 "metadata": {
  "kernelspec": {
   "display_name": "Python 3",
   "language": "python",
   "name": "python3"
  },
  "language_info": {
   "codemirror_mode": {
    "name": "ipython",
    "version": 3
   },
   "file_extension": ".py",
   "mimetype": "text/x-python",
   "name": "python",
   "nbconvert_exporter": "python",
   "pygments_lexer": "ipython3",
   "version": "3.12.5"
  }
 },
 "nbformat": 4,
 "nbformat_minor": 2
}
